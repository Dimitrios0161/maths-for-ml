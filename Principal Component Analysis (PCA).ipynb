{
 "cells": [
  {
   "cell_type": "markdown",
   "source": [
    "|<img src=\"images/psychedelic-pluto_pca.png\" align=\"centre\" width=\"700\"/>|\n",
    "|:-:|\n",
    "|Psychedelic Pluto|\n",
    "|<span style=\"font-size:0.7em;\"> New Horizons scientists made this false color image of Pluto using a technique called **Principal Component Analysis (PCA)** to highlight the many subtle color differences between Pluto's distinct regions. The image data were collected by the spacecraft’s Ralph/MVIC color camera on July 14 at 11:11 AM UTC, from a range of 22,000 miles (35,000 kilometers). This image was presented by Will Grundy of the New Horizons’ surface composition team on Nov. 9 at the Division for Planetary Sciences (DPS) meeting of the American Astronomical Society (AAS) in National Harbor, Maryland.</span>|\n",
    "\n",
    "<span style=\"font-size:0.6em;\"> Image Credit: [NASA/JHUAPL/SwRI](https://www.nasa.gov/image-feature/psychedelic-pluto)\n"
   ],
   "metadata": {
    "collapsed": false,
    "pycharm": {
     "name": "#%% md\n"
    }
   }
  },
  {
   "cell_type": "markdown",
   "source": [
    "\n",
    "### Mathematical background and notes from the book [\"Mathematics for Machine Learning\"](https://mml-book.com).\n",
    "\n"
   ],
   "metadata": {
    "collapsed": false,
    "pycharm": {
     "name": "#%% md\n"
    }
   }
  },
  {
   "cell_type": "code",
   "execution_count": 1,
   "metadata": {
    "collapsed": true,
    "pycharm": {
     "name": "#%%\n"
    }
   },
   "outputs": [],
   "source": [
    "import numpy as np\n",
    "import timeit\n",
    "import matplotlib as mpl\n",
    "mpl.use('Agg')\n",
    "import matplotlib.pyplot as plt\n",
    "plt.style.use('fivethirtyeight')\n",
    "from ipywidgets import interact\n",
    "from sklearn.datasets import fetch_mldata"
   ]
  },
  {
   "cell_type": "code",
   "execution_count": null,
   "outputs": [],
   "source": [],
   "metadata": {
    "collapsed": false,
    "pycharm": {
     "name": "#%%\n"
    }
   }
  }
 ],
 "metadata": {
  "kernelspec": {
   "display_name": "Python 3",
   "language": "python",
   "name": "python3"
  },
  "language_info": {
   "codemirror_mode": {
    "name": "ipython",
    "version": 2
   },
   "file_extension": ".py",
   "mimetype": "text/x-python",
   "name": "python",
   "nbconvert_exporter": "python",
   "pygments_lexer": "ipython2",
   "version": "2.7.6"
  }
 },
 "nbformat": 4,
 "nbformat_minor": 0
}